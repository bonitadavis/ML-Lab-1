{
 "cells": [
  {
   "cell_type": "markdown",
   "id": "38a10826-fef5-47b7-b847-43c9b312200b",
   "metadata": {
    "panel-layout": {
     "height": 126.83334350585938,
     "visible": true,
     "width": 100
    }
   },
   "source": [
    "# Lab Assignment One: Exploring Table Data \n",
    "**Christopher Cook, Bonita Davis, Anekah Kelley, Davis Lynn**\n",
    "\n",
    "## 1. Business Understanding "
   ]
  },
  {
   "cell_type": "markdown",
   "id": "b22066fa",
   "metadata": {},
   "source": [
    "Test10101010"
   ]
  },
  {
   "cell_type": "code",
   "execution_count": null,
   "id": "34448e14",
   "metadata": {},
   "outputs": [],
   "source": [
    "import pandas as pd"
   ]
  },
  {
   "cell_type": "markdown",
   "id": "3b669b2f-d957-4a34-952f-79ec8ced32d4",
   "metadata": {
    "panel-layout": {
     "height": 50.8125,
     "visible": true,
     "width": 100
    }
   },
   "source": [
    "## 2. Data Understanding"
   ]
  },
  {
   "cell_type": "markdown",
   "id": "4b4d91e1",
   "metadata": {},
   "source": [
    "### Attributes\n",
    "There are 18 different attributes collected in the dataset, so we focused on the attributes that we used for our visualization.\n",
    "\n",
    "1)  **Year:** This is the year that the track was released. The years range from 1899 to 2024, with the most tracks being from 1974-1980, followed by 1980-1986.\n",
    "2)  **Key:** Describes the key of the track -- the conversion of which is: *0 = C, 1 = C#, 2 = D, 3 = Ef, 4 = E, 5 = F, 6 = F#, 7 = G, 8 = Af, 9 = A, 10 = Bf, 11 = B*. C and G were the most common keys.\n",
    "3)  **Mode:** Shows if the key is major (1) or minor (0). The vast majority of songs were in a major key.\n",
    "4)  **Popularity:** Measures the track's popularity on a scale of 0-100.  The popularity is essentially a bell curve, skewed slightly to the right.\n",
    "5)  **Genre:** Describes the genre of the song. Pop, metal, country, R&B, and Rock are some of the most common."
   ]
  },
  {
   "cell_type": "markdown",
   "id": "4413fbfe-dde5-4844-997e-5682d9839415",
   "metadata": {
    "panel-layout": {
     "height": 50.8125,
     "visible": true,
     "width": 100
    }
   },
   "source": [
    "## 3. Data Visualization"
   ]
  },
  {
   "cell_type": "markdown",
   "id": "af2159e7-df09-4a91-a181-6aaeb54b467d",
   "metadata": {
    "panel-layout": {
     "height": 50.8125,
     "visible": true,
     "width": 100
    }
   },
   "source": [
    "## 4. Dimensionality Reduction"
   ]
  }
 ],
 "metadata": {
  "kernelspec": {
   "display_name": "Python 3 (ipykernel)",
   "language": "python",
   "name": "python3"
  },
  "language_info": {
   "codemirror_mode": {
    "name": "ipython",
    "version": 3
   },
   "file_extension": ".py",
   "mimetype": "text/x-python",
   "name": "python",
   "nbconvert_exporter": "python",
   "pygments_lexer": "ipython3",
   "version": "3.10.12"
  },
  "panel-cell-order": [
   "38a10826-fef5-47b7-b847-43c9b312200b",
   "3b669b2f-d957-4a34-952f-79ec8ced32d4",
   "4413fbfe-dde5-4844-997e-5682d9839415",
   "af2159e7-df09-4a91-a181-6aaeb54b467d"
  ]
 },
 "nbformat": 4,
 "nbformat_minor": 5
}
