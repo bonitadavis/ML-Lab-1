{
 "cells": [
  {
   "cell_type": "markdown",
   "id": "38a10826-fef5-47b7-b847-43c9b312200b",
   "metadata": {
    "panel-layout": {
     "height": 126.83334350585938,
     "visible": true,
     "width": 100
    }
   },
   "source": [
    "# Lab Assignment One: Exploring Table Data \n",
    "**Christopher Cook, Bonita Davis, Anekah Kelley, Davis Lynn**\n",
    "\n",
    "## 1. Business Understanding "
   ]
  },
  {
   "cell_type": "markdown",
   "id": "3b669b2f-d957-4a34-952f-79ec8ced32d4",
   "metadata": {
    "panel-layout": {
     "height": 50.8125,
     "visible": true,
     "width": 100
    }
   },
   "source": [
    "## 2. Data Understanding"
   ]
  },
  {
   "cell_type": "markdown",
   "id": "4413fbfe-dde5-4844-997e-5682d9839415",
   "metadata": {
    "panel-layout": {
     "height": 50.8125,
     "visible": true,
     "width": 100
    }
   },
   "source": [
    "## 3. Data Visualization"
   ]
  },
  {
   "cell_type": "markdown",
   "id": "af2159e7-df09-4a91-a181-6aaeb54b467d",
   "metadata": {
    "panel-layout": {
     "height": 50.8125,
     "visible": true,
     "width": 100
    }
   },
   "source": [
    "## 4. Dimensionality Reduction"
   ]
  }
 ],
 "metadata": {
  "kernelspec": {
   "display_name": "Python 3 (ipykernel)",
   "language": "python",
   "name": "python3"
  },
  "language_info": {
   "codemirror_mode": {
    "name": "ipython",
    "version": 3
   },
   "file_extension": ".py",
   "mimetype": "text/x-python",
   "name": "python",
   "nbconvert_exporter": "python",
   "pygments_lexer": "ipython3",
   "version": "3.12.4"
  },
  "panel-cell-order": [
   "38a10826-fef5-47b7-b847-43c9b312200b",
   "3b669b2f-d957-4a34-952f-79ec8ced32d4",
   "4413fbfe-dde5-4844-997e-5682d9839415",
   "af2159e7-df09-4a91-a181-6aaeb54b467d"
  ]
 },
 "nbformat": 4,
 "nbformat_minor": 5
}
