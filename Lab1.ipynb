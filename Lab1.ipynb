{
 "cells": [
  {
   "cell_type": "markdown",
   "id": "38a10826-fef5-47b7-b847-43c9b312200b",
   "metadata": {
    "panel-layout": {
     "height": 126.83334350585938,
     "visible": true,
     "width": 100
    }
   },
   "source": [
    "# Lab Assignment One: Exploring Table Data \n",
    "**Christopher Cook, Bonita Davis, Anekah Kelley, Davis Lynn**\n",
    "\n",
    "## 1. Business Understanding "
   ]
  },
  {
   "cell_type": "markdown",
   "id": "b22066fa",
   "metadata": {},
   "source": [
    "Test10101010"
   ]
  },
  {
   "cell_type": "code",
   "execution_count": null,
   "id": "34448e14",
   "metadata": {},
   "outputs": [],
   "source": [
    "import pandas as pd"
   ]
  },
  {
   "cell_type": "markdown",
   "id": "3b669b2f-d957-4a34-952f-79ec8ced32d4",
   "metadata": {
    "panel-layout": {
     "height": 50.8125,
     "visible": true,
     "width": 100
    }
   },
   "source": [
    "## 2. Data Understanding"
   ]
  },
  {
   "cell_type": "code",
   "execution_count": null,
   "id": "d8c2c402",
   "metadata": {},
   "outputs": [],
   "source": [
    "df = pd.read_csv()\n",
    "\n",
    "data_des = pd.DataFrame()\n",
    "\n",
    "data_des['Attributes'] = df.columns\n",
    "data_des['Description'] = ['Name of song', 'Name of singer', 'Year released', 'Length of song in milliseconds', 'Musical time signature',\n",
    "        'Suitability of dancing (0-1)', 'Intensity of the song (0-1)', 'Key of the track (0-11)', 'Loudness of track in dB', 'Modality (major or minor)',\n",
    "        'Measures the presence of spoken words (0-1)', 'Measure of how acoustic the track is (0-1)', 'Measure of likelihood that track is instrumental (0-1)',\n",
    "        'Measure of the presence of a live audience (0-1)', 'Measure of musical positiveness (0-1)', 'Speed of the track (BPM)', 'Track popularity (0-100)',\n",
    "        'Musical genre of the song']\n",
    "data_des['Scales'] = ['Nominal', 'Nominal', 'Ordinal', 'Ratio', 'Nominal', 'Ratio', 'Ratio', 'Ordinal', 'Ratio', 'Ordinal',\n",
    "        'Ratio', 'Ratio', 'Ratio', 'Ratio', 'Ratio', 'Ratio', 'Ratio', 'Ordinal']\n",
    "data_des['Discrete/Continuous'] = ['Discrete', 'Discrete', 'Discrete', 'Continuous', 'Discrete', 'Continuous', 'Continuous', 'Discrete'\n",
    "        'Continuous', 'Discrete', 'Continuous', 'Continuous', 'Continuous', 'Continuous', 'Continuous', 'Continuous', 'Continuous', 'Discrete']\n",
    "data_des['Range'] = ['N/A', 'N/A', '1899-2024', '23.0k-3.06m', '3 or 4', '0.0-1.0', '0.0-1.0', '0-11', '-47.4-0.92', '0 or 1', '0.0-1.0', '0.0-1.0', '0.0-1.0', \n",
    "        '0.0-1.0', '0.0-1.0', '0-220', '0-100', 'N/A']\n",
    "\n",
    "data_des"
   ]
  },
  {
   "cell_type": "markdown",
   "id": "4b4d91e1",
   "metadata": {},
   "source": [
    "### Attributes\n",
    "There are 18 different attributes collected in the dataset, so we focused on the attributes that we used for our visualization.\n",
    "\n",
    "1)  **Year:** This is the year that the track was released. The years range from 1899 to 2024, with the most tracks being from 1974-1980, followed by 1980-1986.\n",
    "2)  **Key:** Describes the key of the track -- the conversion of which is: *0 = C, 1 = C#, 2 = D, 3 = Ef, 4 = E, 5 = F, 6 = F#, 7 = G, 8 = Af, 9 = A, 10 = Bf, 11 = B*. C and G were the most common keys.\n",
    "3)  **Mode:** Shows if the key is major (1) or minor (0). The vast majority of songs were in a major key.\n",
    "4)  **Popularity:** Measures the track's popularity on a scale of 0-100.  The popularity is essentially a bell curve, skewed slightly to the right.\n",
    "5)  **Genre:** Describes the genre of the song. Pop, metal, country, R&B, and Rock are some of the most common."
   ]
  },
  {
   "cell_type": "markdown",
   "id": "4413fbfe-dde5-4844-997e-5682d9839415",
   "metadata": {
    "panel-layout": {
     "height": 50.8125,
     "visible": true,
     "width": 100
    }
   },
   "source": [
    "## 3. Data Visualization"
   ]
  },
  {
   "cell_type": "code",
   "execution_count": null,
   "id": "508b00a7",
   "metadata": {},
   "outputs": [],
   "source": [
    "import pandas as pd\n",
    "import numpy as np\n",
    "import seaborn as sns\n",
    "from matplotlib import pyplot as plt\n",
    "\n",
    "print('Pandas:', pd.__version__)\n",
    "print('Numpy:',np.__version__)"
   ]
  },
  {
   "cell_type": "code",
   "execution_count": null,
   "id": "ea9c8d50",
   "metadata": {},
   "outputs": [],
   "source": [
    "df = pd.read_csv('ClassicHit.csv')\n",
    "\n",
    "df.head()"
   ]
  },
  {
   "cell_type": "code",
   "execution_count": null,
   "id": "b0fcab7c",
   "metadata": {},
   "outputs": [],
   "source": [
    "print(df.dtypes)"
   ]
  },
  {
   "cell_type": "code",
   "execution_count": null,
   "id": "38220aec",
   "metadata": {},
   "outputs": [],
   "source": [
    "# Create the JointGrid object\n",
    "g = sns.JointGrid(data=df, x=\"Popularity\", y=\"Danceability\", space=0)\n",
    "\n",
    "# Plot the 2D histogram with KDE on the margins\n",
    "g.plot_marginals(sns.histplot, kde=True, bins=10)\n",
    "\n",
    "# Set the aspect ratio of the x-axis marginal plot\n",
    "#g.ax_marg_x.set_aspect(1.0 / g.ax_marg_x.get_data_ratio(), adjustable='box')\n",
    "\n",
    "# Add the 2D histogram to the central plot\n",
    "ax = g.ax_joint\n",
    "sns.histplot(x='Popularity', y='Valence', data=df, bins=10, ax=ax)\n",
    "\n",
    "# Now add text annotations to the histogram cells\n",
    "coords = ax.collections[0].get_coordinates()\n",
    "half_width = (coords[0, 1, 0] - coords[0, 0, 0]) / 2\n",
    "half_height = (coords[1, 0, 1] - coords[0, 0, 1]) / 2\n",
    "\n",
    "for v, (xv, yv) in zip(ax.collections[0].get_array().ravel(), coords[:-1, :-1, :].reshape(-1, 2)):\n",
    "    if not np.ma.is_masked(v):\n",
    "        ax.text(xv + half_width, yv + half_height, f'{v:.0f}', ha='center', va='center', color='white')\n",
    "\n",
    "# Display the plot\n",
    "plt.show()"
   ]
  },
  {
   "cell_type": "code",
   "execution_count": null,
   "id": "ef410d78",
   "metadata": {},
   "outputs": [],
   "source": [
    "import warnings\n",
    "warnings.simplefilter('ignore', DeprecationWarning)\n",
    "%matplotlib inline \n",
    "\n",
    "# External package: conda install missingno \n",
    "import missingno as mn\n",
    "\n",
    "mn.matrix(df)\n",
    "plt.title(\"Not Sorted\",fontsize=22)\n",
    "\n",
    "plt.show()"
   ]
  },
  {
   "cell_type": "code",
   "execution_count": null,
   "id": "ba3888dd",
   "metadata": {},
   "outputs": [],
   "source": [
    "# let's break up the age variable into a discrete new variable\n",
    "df['Era'] = pd.cut(df['Year'],\n",
    "                            [0,1945,1960,1975,1990,2008,2027],\n",
    "                            labels=['WW2_or_Before','EarlyColdWar','MiddleColdWar','LateColdWar','BeforeObama','AfterObama']) # this creates a new variable\n",
    "df.Era.describe()"
   ]
  },
  {
   "cell_type": "code",
   "execution_count": null,
   "id": "814ffd53",
   "metadata": {},
   "outputs": [],
   "source": [
    "# let's break up the age variable into a discrete new variable\n",
    "df['Era'] = pd.cut(df['Year'],\n",
    "                            [0,1985,2027],\n",
    "                            labels=['Before1985','After1985']) # this creates a new variable\n",
    "df.Era.describe()"
   ]
  },
  {
   "cell_type": "code",
   "execution_count": null,
   "id": "4d3ca4aa",
   "metadata": {},
   "outputs": [],
   "source": [
    "# first group the data\n",
    "df_grouped = df.groupby(by=['Genre','Era'])\n",
    "\n",
    "# tabulate survival rates of each group\n",
    "Popularity_rate = df_grouped.Popularity.sum() / df_grouped.Popularity.count()\n",
    "\n",
    "\n",
    "plt.figure(figsize=(18, 12))\n",
    "# show in a bar chart using builtin pandas API\n",
    "ax = Popularity_rate.plot(kind='barh')\n",
    "plt.title('Popularity Percentages by Genre and Era')\n",
    "plt.show()"
   ]
  },
  {
   "cell_type": "code",
   "execution_count": null,
   "id": "4c1644a2",
   "metadata": {},
   "outputs": [],
   "source": [
    "# the cross tab operator provides an easy way to get these numbers\n",
    "survival = pd.crosstab([df['Genre'],\n",
    "                        df['Era']], # categories to cross tabulate\n",
    "                       df.Mode.astype(bool)) # how to group\n",
    "plt.figure(figsize=(18, 12))\n",
    "survival.plot(kind='barh', stacked=True)\n",
    "plt.show()"
   ]
  },
  {
   "cell_type": "code",
   "execution_count": 3,
   "id": "b473eafb",
   "metadata": {},
   "outputs": [
    {
     "ename": "NameError",
     "evalue": "name 'plt' is not defined",
     "output_type": "error",
     "traceback": [
      "\u001b[0;31m---------------------------------------------------------------------------\u001b[0m",
      "\u001b[0;31mNameError\u001b[0m                                 Traceback (most recent call last)",
      "Cell \u001b[0;32mIn[3], line 2\u001b[0m\n\u001b[1;32m      1\u001b[0m \u001b[38;5;66;03m# plot overall cross tab with both groups\u001b[39;00m\n\u001b[0;32m----> 2\u001b[0m \u001b[43mplt\u001b[49m\u001b[38;5;241m.\u001b[39mfigure(figsize\u001b[38;5;241m=\u001b[39m(\u001b[38;5;241m18\u001b[39m, \u001b[38;5;241m10\u001b[39m))\n\u001b[1;32m      3\u001b[0m ax1 \u001b[38;5;241m=\u001b[39m plt\u001b[38;5;241m.\u001b[39msubplot(\u001b[38;5;241m1\u001b[39m,\u001b[38;5;241m3\u001b[39m,\u001b[38;5;241m1\u001b[39m)\n\u001b[1;32m      4\u001b[0m ax2 \u001b[38;5;241m=\u001b[39m plt\u001b[38;5;241m.\u001b[39msubplot(\u001b[38;5;241m1\u001b[39m,\u001b[38;5;241m3\u001b[39m,\u001b[38;5;241m2\u001b[39m)\n",
      "\u001b[0;31mNameError\u001b[0m: name 'plt' is not defined"
     ]
    }
   ],
   "source": [
    "# plot overall cross tab with both groups\n",
    "plt.figure(figsize=(18, 10))\n",
    "ax1 = plt.subplot(1,3,1)\n",
    "ax2 = plt.subplot(1,3,2)\n",
    "ax3 = plt.subplot(1,3,3)\n",
    "\n",
    "pd.crosstab([df['Era']], # categories to cross tabulate\n",
    "            df.Mode.astype(bool)).plot(kind='bar', stacked=True, ax=ax1) \n",
    "\n",
    "pd.crosstab([df['Genre']], # categories to cross tabulate\n",
    "            df.Mode.astype(bool)).plot(kind='bar', stacked=True, ax=ax2) \n",
    "\n",
    "pd.crosstab([df['Key']], # categories to cross tabulate\n",
    "            df.Mode.astype(bool)).plot(kind='bar', stacked=True, ax=ax3) \n",
    "\n",
    "plt.show()\n",
    "\n",
    "#FUCK FUCK FUCK"
   ]
  },
  {
   "cell_type": "markdown",
   "id": "af2159e7-df09-4a91-a181-6aaeb54b467d",
   "metadata": {
    "panel-layout": {
     "height": 50.8125,
     "visible": true,
     "width": 100
    }
   },
   "source": [
    "## 4. Dimensionality Reduction"
   ]
  }
 ],
 "metadata": {
  "kernelspec": {
   "display_name": "Python 3 (ipykernel)",
   "language": "python",
   "name": "python3"
  },
  "language_info": {
   "codemirror_mode": {
    "name": "ipython",
    "version": 3
   },
   "file_extension": ".py",
   "mimetype": "text/x-python",
   "name": "python",
   "nbconvert_exporter": "python",
   "pygments_lexer": "ipython3",
   "version": "3.10.12"
  },
  "panel-cell-order": [
   "38a10826-fef5-47b7-b847-43c9b312200b",
   "3b669b2f-d957-4a34-952f-79ec8ced32d4",
   "4413fbfe-dde5-4844-997e-5682d9839415",
   "af2159e7-df09-4a91-a181-6aaeb54b467d"
  ]
 },
 "nbformat": 4,
 "nbformat_minor": 5
}
